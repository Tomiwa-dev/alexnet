{
 "cells": [
  {
   "cell_type": "code",
   "execution_count": 2,
   "metadata": {},
   "outputs": [],
   "source": [
    "import torch\n",
    "import torch.nn as nn\n",
    "import torch.nn.functional as F"
   ]
  },
  {
   "cell_type": "code",
   "execution_count": null,
   "metadata": {},
   "outputs": [],
   "source": [
    "class Net(nn.Module):\n",
    "    def __init__(self):\n",
    "        super(Net, self).__init__()\n",
    "        self.conv1 = nn.Conv2d(in_channels= 3, out_channels=96, kernel_size = (11,11), stride= 4)\n",
    "        self.norm1 = nn.LocalResponseNorm(5, k=2, alpha=0.00004, beta=0.75) #k = 2, n = 5, α = 10−4, and β = 0.75.\n",
    "        self.pool = nn.MaxPool2d(2,2)\n",
    "\n",
    "        self.conv2 = nn.Conv2d(96, 256, 5)\n",
    "        self.conv3 = nn.Conv2d(256, 384, 3)\n",
    "        self.conv4 = nn.Conv2d(384, 384, 3)\n",
    "        self.conv5 = nn.Conv2d(384, 256, 3)\n",
    "        self.fc1 = nn.Linear((256 * 6 * 6), 4096) #256 * 6 * 6) to flatten\n",
    "        self.fc2 = nn.Linear(4096,4096)\n",
    "        self.fc3 = nn.Linear(4096,1000)\n",
    "\n"
   ]
  }
 ],
 "metadata": {
  "kernelspec": {
   "display_name": "Python 3.8.13 ('venv': venv)",
   "language": "python",
   "name": "python3"
  },
  "language_info": {
   "codemirror_mode": {
    "name": "ipython",
    "version": 3
   },
   "file_extension": ".py",
   "mimetype": "text/x-python",
   "name": "python",
   "nbconvert_exporter": "python",
   "pygments_lexer": "ipython3",
   "version": "3.8.13"
  },
  "orig_nbformat": 4,
  "vscode": {
   "interpreter": {
    "hash": "811e4875ac27d1a4061c5c0f43505aac75ff905892a998a94ad8ce1751638e59"
   }
  }
 },
 "nbformat": 4,
 "nbformat_minor": 2
}
